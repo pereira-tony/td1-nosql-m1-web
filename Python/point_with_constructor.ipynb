{
 "cells": [
  {
   "cell_type": "code",
   "execution_count": 3,
   "metadata": {},
   "outputs": [
    {
     "output_type": "stream",
     "name": "stdout",
     "text": "P(2.00 , 3.00)\nP(2.00 , 6.00 , 4.00)\n"
    }
   ],
   "source": [
    "class Point:\n",
    "    def __init__(self,x,y,z=None):\n",
    "         \n",
    "        self.x=x\n",
    "        self.y=y\n",
    "        self.z=z\n",
    "     \n",
    "    def ToString(self):\n",
    "        if self.z==None:print(\"P(%.2f , %.2f)\"%(self.x,self.y))\n",
    "        else:print(\"P(%.2f , %.2f , %.2f)\"%(self.x,self.y,self.z))\n",
    "\n",
    "p1 = Point(2,3)\n",
    "p1.ToString()\n",
    "\n",
    "p2 = Point(2,6,4)\n",
    "p2.ToString()"
   ]
  },
  {
   "cell_type": "code",
   "execution_count": null,
   "metadata": {},
   "outputs": [],
   "source": []
  }
 ],
 "metadata": {
  "language_info": {
   "codemirror_mode": {
    "name": "ipython",
    "version": 3
   },
   "file_extension": ".py",
   "mimetype": "text/x-python",
   "name": "python",
   "nbconvert_exporter": "python",
   "pygments_lexer": "ipython3",
   "version": "3.8.2-final"
  },
  "orig_nbformat": 2,
  "kernelspec": {
   "name": "python38264bit4ba0dbb51c7142faa4aae3fdae90a7d8",
   "display_name": "Python 3.8.2 64-bit"
  }
 },
 "nbformat": 4,
 "nbformat_minor": 2
}