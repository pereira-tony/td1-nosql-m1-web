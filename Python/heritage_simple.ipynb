{
 "cells": [
  {
   "cell_type": "code",
   "execution_count": 6,
   "metadata": {},
   "outputs": [
    {
     "output_type": "stream",
     "name": "stdout",
     "text": "Nom:PEREIRA \nPrénom: Tony \nDate de naissance: 24 / 06 / 1998\n-----------------\nNom:PEREIRA \nPrénom: Tony \nDate de naissance: 24 / 06 / 1998\nSalaire: 3500.12\n-----------------\nNom:PEREIRA \nPrénom: Tony \nDate de naissance: 24 / 06 / 1998\nSalaire: 3500.12\nService: Gestion de la paye\n"
    }
   ],
   "source": [
    "class DateNaissance:\n",
    "    def __init__(self,jour,mois,annee):\n",
    "        self.jour=jour\n",
    "        self.mois=mois\n",
    "        self.annee=annee\n",
    "        \n",
    "    def ToString(self):\n",
    "        return \"%02d / %02d / %d\" %(self.jour,self.mois,self.annee)\n",
    "\n",
    "class Personne:\n",
    "    def __init__(self,nom,prenom,date_naissance):\n",
    "        self.nom=nom\n",
    "        self.prenom=prenom\n",
    "        self.date_naissance=date_naissance\n",
    "        \n",
    "    def Afficher(self):\n",
    "        print(\"Nom:%s \\nPrénom: %s \\nDate de naissance: %s\"%(self.nom,self.prenom,self.date_naissance.ToString()))\n",
    "\n",
    "class Employe(Personne):\n",
    "\n",
    "    def __init__(self,nom,prenom,date_naissance,salaire):\n",
    "        Personne.__init__(self,nom,prenom,date_naissance)\n",
    "        self.salaire=salaire\n",
    "    def Afficher(self):\n",
    "        Personne.Afficher(self)\n",
    "        print(\"Salaire: %.02f\"%self.salaire)\n",
    "\n",
    "class Chef(Employe):\n",
    "    def __init__(self,nom,prenom,date_naissance,salaire,service):\n",
    "        Employe.__init__(self,nom,prenom,date_naissance,salaire)\n",
    "        self.service=service\n",
    "    def Afficher(self):\n",
    "        Employe.Afficher(self)\n",
    "        print(\"Service: %s\"%self.service)\n",
    "\n",
    "P = Personne(\"PEREIRA\", \"Tony\", DateNaissance(24,6,1998))\n",
    "P.Afficher()\n",
    "print(\"-----------------\")\n",
    "E = Employe(\"PEREIRA\",\"Tony\",DateNaissance(24,6,1998),3500.120)\n",
    "E.Afficher()\n",
    "print(\"-----------------\")\n",
    "C = Chef(\"PEREIRA\",\"Tony\",DateNaissance(24,6,1998),3500.120, \"Gestion de la paye\")\n",
    "C.Afficher()"
   ]
  },
  {
   "cell_type": "code",
   "execution_count": null,
   "metadata": {},
   "outputs": [],
   "source": []
  }
 ],
 "metadata": {
  "language_info": {
   "codemirror_mode": {
    "name": "ipython",
    "version": 3
   },
   "file_extension": ".py",
   "mimetype": "text/x-python",
   "name": "python",
   "nbconvert_exporter": "python",
   "pygments_lexer": "ipython3",
   "version": "3.8.2-final"
  },
  "orig_nbformat": 2,
  "kernelspec": {
   "name": "python38264bit4ba0dbb51c7142faa4aae3fdae90a7d8",
   "display_name": "Python 3.8.2 64-bit"
  }
 },
 "nbformat": 4,
 "nbformat_minor": 2
}