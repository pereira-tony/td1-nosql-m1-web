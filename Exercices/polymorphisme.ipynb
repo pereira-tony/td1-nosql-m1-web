{
 "cells": [
  {
   "cell_type": "code",
   "execution_count": 5,
   "metadata": {},
   "outputs": [
    {
     "output_type": "stream",
     "name": "stdout",
     "text": "Lettre :\n Destination : Paris \n Expediteur : Bordeaux\n Poids : 75.00 grammes\n Mode : Normal \n Format :A4\n Prix du timbre : 0.19 €\n----------------\nColis :\n Destination : Paris \n Expediteur : Lisbonne\n Poids : 4250.00 grammes\n Mode : Express \n Volume : 3.50 litres\n Prix du timbre : 7.44 €\n"
    }
   ],
   "source": [
    "class Courrier:\n",
    "     \n",
    "    def __init__(self,destination,expediteur,poids,mode):\n",
    "        self.destination=destination\n",
    "        self.expediteur=expediteur\n",
    "        self.poids=poids\n",
    "        self.mode=mode\n",
    "         \n",
    "    def ToString(self):\n",
    "        print(\" Destination : %s \\n Expediteur : %s\\n Poids : %.2f grammes\\n Mode : %s \"%(self.destination,self.expediteur,self.poids,self.mode))\n",
    " \n",
    " \n",
    "class Lettre(Courrier):\n",
    "    def __init__(self,destination,expediteur,poids,mode,format):\n",
    "        Courrier.__init__(self,destination,expediteur,poids,mode)\n",
    "        self.format=format\n",
    "         \n",
    "    def calculTimbre(self):\n",
    "        if self.format==\"A4\":tarif_base=2.5\n",
    "        if self.format==\"A3\":tarif_base=3.5\n",
    "        montant=tarif_base*self.poids/1000\n",
    "        if self.mode==\"Express\":montant*=2\n",
    "        return montant\n",
    "         \n",
    "    def ToString(self):\n",
    "        print(\"Lettre :\")\n",
    "        Courrier.ToString(self)\n",
    "        print(\" Format :%s\\n Prix du timbre : %.2f\"%(self.format,self.calculTimbre()),\"€\")\n",
    " \n",
    "class Colis(Courrier):\n",
    "\n",
    "    def __init__(self,destination,expediteur,poids,mode,volume):\n",
    "        Courrier.__init__(self,destination,expediteur,poids,mode)\n",
    "        self.volume=volume\n",
    "\n",
    "    def calculTimbre(self):\n",
    "        montant=0.0\n",
    "        montant=0.25*self.volume*self.poids/1000\n",
    "        if self.mode==\"Express\":montant*=2\n",
    "        return montant\n",
    "         \n",
    "    def ToString(self):\n",
    "        print(\"Colis :\")\n",
    "        Courrier.ToString(self)\n",
    "        print(\" Volume : %.2f litres\\n Prix du timbre : %.2f\"%(self.volume,self.calculTimbre()),\"€\")\n",
    "\n",
    "L1 = Lettre(\"Paris\",\"Bordeaux\",75,\"Normal\",\"A4\")\n",
    "L1.ToString()\n",
    "print(\"----------------\")\n",
    "C1 = Colis(\"Paris\",\"Lisbonne\",4250,\"Express\",3.5)\n",
    "C1.ToString()"
   ]
  },
  {
   "cell_type": "code",
   "execution_count": null,
   "metadata": {},
   "outputs": [],
   "source": []
  }
 ],
 "metadata": {
  "language_info": {
   "codemirror_mode": {
    "name": "ipython",
    "version": 3
   },
   "file_extension": ".py",
   "mimetype": "text/x-python",
   "name": "python",
   "nbconvert_exporter": "python",
   "pygments_lexer": "ipython3",
   "version": "3.8.2-final"
  },
  "orig_nbformat": 2,
  "kernelspec": {
   "name": "python38264bit4ba0dbb51c7142faa4aae3fdae90a7d8",
   "display_name": "Python 3.8.2 64-bit"
  }
 },
 "nbformat": 4,
 "nbformat_minor": 2
}