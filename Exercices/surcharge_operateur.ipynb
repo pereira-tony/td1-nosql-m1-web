{
 "cells": [
  {
   "cell_type": "code",
   "execution_count": 29,
   "metadata": {},
   "outputs": [
    {
     "output_type": "stream",
     "name": "stdout",
     "text": "(5,9)\n"
    }
   ],
   "source": [
    "class Point:\n",
    "    def __init__(self, x, y):\n",
    "        self.x = x\n",
    "        self.y = y\n",
    "\n",
    "    def __add__(self, p2):\n",
    "        return Point(self.x + p2.x, self.y + p2.y)\n",
    "    \n",
    "    def __str__(self):\n",
    "        return \"(%d,%d)\" % (self.x, self.y)\n",
    "\n",
    "p1 = Point(2,3)\n",
    "p2 = Point(3,6)\n",
    "p3 = p1.__add__(p2)\n",
    "p3.__str__()\n",
    "print(p3)"
   ]
  },
  {
   "cell_type": "code",
   "execution_count": null,
   "metadata": {},
   "outputs": [],
   "source": []
  }
 ],
 "metadata": {
  "language_info": {
   "codemirror_mode": {
    "name": "ipython",
    "version": 3
   },
   "file_extension": ".py",
   "mimetype": "text/x-python",
   "name": "python",
   "nbconvert_exporter": "python",
   "pygments_lexer": "ipython3",
   "version": "3.8.2-final"
  },
  "orig_nbformat": 2,
  "kernelspec": {
   "name": "python38264bit4ba0dbb51c7142faa4aae3fdae90a7d8",
   "display_name": "Python 3.8.2 64-bit"
  }
 },
 "nbformat": 4,
 "nbformat_minor": 2
}