{
 "cells": [
  {
   "cell_type": "markdown",
   "metadata": {},
   "source": [
    "Exercice : Compte bancaire"
   ]
  },
  {
   "cell_type": "code",
   "execution_count": 1,
   "metadata": {},
   "outputs": [
    {
     "output_type": "stream",
     "name": "stdout",
     "text": "Le solde du compte bancaire de Dupont est de 250 €.\nSolde insuffisant pour faire un retrait...\nLe solde du compte bancaire de Jean est de 300 €.\n"
    }
   ],
   "source": [
    "class CompteBancaire:\n",
    "\n",
    "    def __init__(self, nom_compte, solde):\n",
    "        self.nom_compte = nom_compte\n",
    "        self.solde = solde\n",
    "\n",
    "    def depot(self, montant):\n",
    "        self.solde = self.solde + montant\n",
    "\n",
    "    def retrait(self, montant):\n",
    "        if (self.solde < montant):\n",
    "            print(\"Solde insuffisant pour faire un retrait...\")\n",
    "        else:\n",
    "            self.solde = self.solde - montant\n",
    "\n",
    "    def affiche(self):\n",
    "        print(\"Le solde du compte bancaire de\", self.nom_compte, \"est de\", self.solde, \"€.\")\n",
    "\n",
    "# Test compte fonctionnel\n",
    "compte1 = CompteBancaire(\"Dupont\", 200)\n",
    "compte1.depot(300)\n",
    "compte1.retrait(250)\n",
    "compte1.affiche()\n",
    "\n",
    "# Test solde insuffisant pour retrait\n",
    "compte2 = CompteBancaire (\"Jean\", 200)\n",
    "compte2.depot(100)\n",
    "compte2.retrait(350)\n",
    "compte2.affiche()"
   ]
  }
 ],
 "metadata": {
  "language_info": {
   "codemirror_mode": {
    "name": "ipython",
    "version": 3
   },
   "file_extension": ".py",
   "mimetype": "text/x-python",
   "name": "python",
   "nbconvert_exporter": "python",
   "pygments_lexer": "ipython3",
   "version": "3.8.2-final"
  },
  "orig_nbformat": 2,
  "kernelspec": {
   "name": "python38264bit4ba0dbb51c7142faa4aae3fdae90a7d8",
   "display_name": "Python 3.8.2 64-bit"
  }
 },
 "nbformat": 4,
 "nbformat_minor": 2
}